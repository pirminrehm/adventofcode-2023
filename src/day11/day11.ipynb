{
 "cells": [
  {
   "cell_type": "code",
   "execution_count": 60,
   "metadata": {
    "collapsed": true
   },
   "outputs": [],
   "source": [
    "import numpy as np\n",
    "import re\n",
    "import math\n",
    "from tqdm import tqdm\n",
    "from collections import Counter\n",
    "from itertools import combinations\n",
    "np.set_printoptions(edgeitems=30, linewidth=100000, \n",
    "    formatter=dict(float=lambda x: \"%.3g\" % x))"
   ]
  },
  {
   "cell_type": "code",
   "execution_count": 61,
   "metadata": {},
   "outputs": [],
   "source": [
    "f = open(\"./input\", \"r\")\n",
    "lines = f.read().splitlines()"
   ]
  },
  {
   "cell_type": "code",
   "execution_count": 62,
   "metadata": {},
   "outputs": [],
   "source": [
    "grid = np.array([list(x) for x in lines])\n",
    "x_duplicate = np.where(np.all(grid == \".\", axis=1))\n",
    "for dup in x_duplicate:\n",
    "    grid = np.insert(grid, dup, grid[dup], axis=0)\n",
    "\n",
    "y_duplicate = np.where(np.all(grid.T == \".\", axis=1))\n",
    "for dup in y_duplicate:\n",
    "    grid = np.insert(grid, dup, \".\", axis=1)\n"
   ]
  },
  {
   "cell_type": "code",
   "execution_count": 63,
   "metadata": {},
   "outputs": [],
   "source": [
    "points = np.array(list(zip(*np.where(grid == \"#\"))))\n",
    "pairs = list(combinations(points, 2))"
   ]
  },
  {
   "cell_type": "code",
   "execution_count": 64,
   "metadata": {},
   "outputs": [
    {
     "data": {
      "text/plain": [
       "9608724"
      ]
     },
     "execution_count": 64,
     "metadata": {},
     "output_type": "execute_result"
    }
   ],
   "source": [
    "dist = 0\n",
    "for pair in pairs:\n",
    "    dist += (sum(abs(pair[0] - pair[1]))) \n",
    "\n",
    "dist"
   ]
  },
  {
   "cell_type": "code",
   "execution_count": 65,
   "metadata": {},
   "outputs": [],
   "source": [
    "MULTI = 1000000\n",
    "grid = np.array([list(x) for x in lines])\n",
    "x_space = np.where(np.all(grid == \".\", axis=1))[0]\n",
    "y_space = np.where(np.all(grid.T == \".\", axis=1))[0]\n",
    "\n",
    "points = np.array(list(zip(*np.where(grid == \"#\"))))\n",
    "new_points = []\n",
    "\n",
    "\n",
    "for point in points:\n",
    "    new_p = list(point)\n",
    "    for x in x_space:\n",
    "        if x < point[0]:\n",
    "            new_p[0] += MULTI-1\n",
    "    for y in y_space:\n",
    "        if y < point[1]:\n",
    "            new_p[1] += MULTI-1\n",
    "    new_points.append(np.array(new_p))\n"
   ]
  },
  {
   "cell_type": "code",
   "execution_count": 66,
   "metadata": {},
   "outputs": [
    {
     "data": {
      "text/plain": [
       "904633799472"
      ]
     },
     "execution_count": 66,
     "metadata": {},
     "output_type": "execute_result"
    }
   ],
   "source": [
    "dist = 0\n",
    "pairs = list(combinations(new_points, 2))\n",
    "for pair in pairs:\n",
    "    dist += (sum(abs(pair[0] - pair[1]))) \n",
    "\n",
    "dist"
   ]
  }
 ],
 "metadata": {
  "kernelspec": {
   "display_name": "Python 3.9.15 ('py39')",
   "language": "python",
   "name": "python3"
  },
  "language_info": {
   "codemirror_mode": {
    "name": "ipython",
    "version": 3
   },
   "file_extension": ".py",
   "mimetype": "text/x-python",
   "name": "python",
   "nbconvert_exporter": "python",
   "pygments_lexer": "ipython3",
   "version": "3.12.0"
  },
  "vscode": {
   "interpreter": {
    "hash": "b2e9f9008725dd23caa923c816518e3b0196341f10d73fc2172efb766a67f165"
   }
  }
 },
 "nbformat": 4,
 "nbformat_minor": 2
}
