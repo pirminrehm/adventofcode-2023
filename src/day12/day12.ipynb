{
 "cells": [
  {
   "cell_type": "code",
   "execution_count": 61,
   "metadata": {
    "collapsed": true
   },
   "outputs": [],
   "source": [
    "import numpy as np\n",
    "import re\n",
    "import math\n",
    "from tqdm import tqdm\n",
    "from collections import Counter\n",
    "import itertools as it\n",
    "np.set_printoptions(edgeitems=30, linewidth=100000, \n",
    "    formatter=dict(float=lambda x: \"%.3g\" % x))"
   ]
  },
  {
   "cell_type": "code",
   "execution_count": 62,
   "metadata": {},
   "outputs": [],
   "source": [
    "f = open(\"./input\", \"r\")\n",
    "lines = f.read().splitlines()"
   ]
  },
  {
   "cell_type": "code",
   "execution_count": 63,
   "metadata": {},
   "outputs": [],
   "source": [
    "liness = [\n",
    "    \"???.### 1,1,3\",\n",
    "    \".??..??...?##. 1,1,3\",\n",
    "    \"?#?#?#?#?#?#?#? 1,3,1,6\",\n",
    "    \"????.#...#... 4,1,1\",\n",
    "    \"????.######..#####. 1,6,5\",\n",
    "    \"?###???????? 3,2,1\",\n",
    "]"
   ]
  },
  {
   "cell_type": "code",
   "execution_count": 64,
   "metadata": {},
   "outputs": [],
   "source": [
    "rows = [[x.split(\" \")[0], list(map(int, x.split(\" \")[1].split(\",\")))] for x in lines]"
   ]
  },
  {
   "cell_type": "code",
   "execution_count": null,
   "metadata": {},
   "outputs": [],
   "source": []
  },
  {
   "cell_type": "code",
   "execution_count": 65,
   "metadata": {},
   "outputs": [
    {
     "name": "stdout",
     "output_type": "stream",
     "text": [
      "7361\n"
     ]
    }
   ],
   "source": [
    "part1 = 0\n",
    "\n",
    "for row, solution in rows:\n",
    "    qm = row.count(\"?\")\n",
    "\n",
    "    permutations = it.product([\".\", \"#\"], repeat=qm)\n",
    "\n",
    "    possible_solutions = []\n",
    "    possible_solutions_checksum = []\n",
    "\n",
    "    for permut in permutations:\n",
    "        new = row\n",
    "        for char in permut:\n",
    "            new = new.replace(\"?\", char, 1)\n",
    "        possible_solutions.append(new)\n",
    "\n",
    "\n",
    "    for ps in possible_solutions:\n",
    "        checksum = list(filter(lambda x: x != 0, [len(x) for x in ps.split(\".\")]))\n",
    "        possible_solutions_checksum.append(checksum)\n",
    "    \n",
    "    part1 += possible_solutions_checksum.count(solution)\n",
    "\n",
    "print(part1)"
   ]
  }
 ],
 "metadata": {
  "kernelspec": {
   "display_name": "Python 3.9.15 ('py39')",
   "language": "python",
   "name": "python3"
  },
  "language_info": {
   "codemirror_mode": {
    "name": "ipython",
    "version": 3
   },
   "file_extension": ".py",
   "mimetype": "text/x-python",
   "name": "python",
   "nbconvert_exporter": "python",
   "pygments_lexer": "ipython3",
   "version": "3.12.0"
  },
  "vscode": {
   "interpreter": {
    "hash": "b2e9f9008725dd23caa923c816518e3b0196341f10d73fc2172efb766a67f165"
   }
  }
 },
 "nbformat": 4,
 "nbformat_minor": 2
}
