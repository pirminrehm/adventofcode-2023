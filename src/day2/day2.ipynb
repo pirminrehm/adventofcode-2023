{
 "cells": [
  {
   "cell_type": "code",
   "execution_count": 46,
   "metadata": {
    "collapsed": true
   },
   "outputs": [],
   "source": [
    "import numpy as np\n",
    "import re"
   ]
  },
  {
   "cell_type": "code",
   "execution_count": 47,
   "metadata": {},
   "outputs": [],
   "source": [
    "f = open(\"./input\", \"r\")\n",
    "lines = f.read().splitlines()"
   ]
  },
  {
   "cell_type": "code",
   "execution_count": 48,
   "metadata": {},
   "outputs": [],
   "source": [
    "def to_dict(game_string):\n",
    "    game_set = re.split(r\",|:\", game_string)\n",
    "    return dict(zip(game_set[1::2],[int(x) for x in game_set [0::2]]))\n",
    "\n",
    "games = [list(map(to_dict, x.split(': ')[1].replace(\"; \", \";\").replace(\", \", \",\").replace(\" \", \":\").split(\";\"))) for x in lines]"
   ]
  },
  {
   "cell_type": "code",
   "execution_count": 49,
   "metadata": {},
   "outputs": [],
   "source": [
    "colors = [\"red\", \"green\", \"blue\"]\n",
    "max_colors = [12, 13, 14]"
   ]
  },
  {
   "cell_type": "code",
   "execution_count": 50,
   "metadata": {},
   "outputs": [],
   "source": [
    "marked_games = np.ones(len(games))\n",
    "\n",
    "for i, game in enumerate(games):\n",
    "    for gset in game:\n",
    "        for ci, color in enumerate(colors):\n",
    "            if color in gset:\n",
    "                if gset[color] > max_colors[ci]:\n",
    "                    marked_games[i] = 0"
   ]
  },
  {
   "cell_type": "code",
   "execution_count": 51,
   "metadata": {},
   "outputs": [
    {
     "data": {
      "text/plain": [
       "2771"
      ]
     },
     "execution_count": 51,
     "metadata": {},
     "output_type": "execute_result"
    }
   ],
   "source": [
    "part1 = np.add(marked_games.nonzero(), 1)\n",
    "part1.sum()"
   ]
  },
  {
   "cell_type": "code",
   "execution_count": 53,
   "metadata": {},
   "outputs": [
    {
     "data": {
      "text/plain": [
       "70924"
      ]
     },
     "execution_count": 53,
     "metadata": {},
     "output_type": "execute_result"
    }
   ],
   "source": [
    "pow_sum = 0\n",
    "for i, game in enumerate(games):\n",
    "    min_color = [0,0,0]\n",
    "    for gset in game:\n",
    "        for ci, color in enumerate(colors):\n",
    "            if color in gset:\n",
    "                if min_color[ci] < gset[color]:\n",
    "                     min_color[ci] = gset[color]\n",
    "    pow_sum += np.prod(min_color)\n",
    "\n",
    "pow_sum"
   ]
  }
 ],
 "metadata": {
  "kernelspec": {
   "display_name": "Python 3.9.15 ('py39')",
   "language": "python",
   "name": "python3"
  },
  "language_info": {
   "codemirror_mode": {
    "name": "ipython",
    "version": 3
   },
   "file_extension": ".py",
   "mimetype": "text/x-python",
   "name": "python",
   "nbconvert_exporter": "python",
   "pygments_lexer": "ipython3",
   "version": "3.12.0"
  },
  "vscode": {
   "interpreter": {
    "hash": "b2e9f9008725dd23caa923c816518e3b0196341f10d73fc2172efb766a67f165"
   }
  }
 },
 "nbformat": 4,
 "nbformat_minor": 2
}
