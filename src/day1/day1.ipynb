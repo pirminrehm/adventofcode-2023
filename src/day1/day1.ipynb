{
 "cells": [
  {
   "cell_type": "code",
   "execution_count": 99,
   "metadata": {
    "collapsed": true
   },
   "outputs": [],
   "source": [
    "import numpy as np\n",
    "import re"
   ]
  },
  {
   "cell_type": "code",
   "execution_count": 100,
   "metadata": {},
   "outputs": [],
   "source": [
    "f = open(\"./input\", \"r\")\n",
    "lines = f.read().splitlines()"
   ]
  },
  {
   "cell_type": "code",
   "execution_count": 101,
   "metadata": {},
   "outputs": [],
   "source": [
    "def get_nums(text):\n",
    "    return list(filter(str.isdigit, text))"
   ]
  },
  {
   "cell_type": "code",
   "execution_count": 102,
   "metadata": {},
   "outputs": [
    {
     "name": "stdout",
     "output_type": "stream",
     "text": [
      "seven5817smvjfpdktwo6mdfngz\n",
      "['5', '8', '1', '7', '6']\n",
      "56\n"
     ]
    }
   ],
   "source": [
    "print(lines[31])\n",
    "t2 = get_nums(lines[31])\n",
    "print(t2)\n",
    "print(int(t2[0] + t2[-1]))"
   ]
  },
  {
   "cell_type": "code",
   "execution_count": 103,
   "metadata": {},
   "outputs": [
    {
     "data": {
      "text/plain": [
       "54605"
      ]
     },
     "execution_count": 103,
     "metadata": {},
     "output_type": "execute_result"
    }
   ],
   "source": [
    "part1 = 0\n",
    "for line in lines:\n",
    "    nums = get_nums(line)\n",
    "    part1 += int(nums[0] + nums[-1])\n",
    "\n",
    "part1"
   ]
  },
  {
   "cell_type": "code",
   "execution_count": 104,
   "metadata": {},
   "outputs": [],
   "source": [
    "all_nums = [\"one\", \"two\", \"three\", \"four\", \"five\", \"six\", \"seven\", \"eight\", \"nine\"]\n",
    "\n",
    "\n",
    "def get_nums2(text):\n",
    "    nums = []\n",
    "    for i, c in enumerate(text):\n",
    "        if c.isdigit():\n",
    "            nums.append(c)\n",
    "        for d, num in enumerate(all_nums):\n",
    "            if text[i:].startswith(num):\n",
    "                nums.append(str(d + 1))\n",
    "    return nums"
   ]
  },
  {
   "cell_type": "code",
   "execution_count": 105,
   "metadata": {},
   "outputs": [
    {
     "name": "stdout",
     "output_type": "stream",
     "text": [
      "oneight2sevenine\n",
      "['1', '8', '2', '7', '9']\n",
      "19\n"
     ]
    }
   ],
   "source": [
    "l1 = \"oneight2sevenine\"\n",
    "print(l1)\n",
    "t1 = get_nums2(l1)\n",
    "print(t1)\n",
    "print(int(t1[0] + t1[-1]))"
   ]
  },
  {
   "cell_type": "code",
   "execution_count": 106,
   "metadata": {},
   "outputs": [
    {
     "data": {
      "text/plain": [
       "55429"
      ]
     },
     "execution_count": 106,
     "metadata": {},
     "output_type": "execute_result"
    }
   ],
   "source": [
    "part2 = 0\n",
    "all_d_p = []\n",
    "for line in lines:\n",
    "    nums = get_nums2(line)\n",
    "    all_d_p.append(nums)\n",
    "    part2 += int(nums[0] + nums[-1])\n",
    "\n",
    "part2"
   ]
  }
 ],
 "metadata": {
  "kernelspec": {
   "display_name": "Python 3.9.15 ('py39')",
   "language": "python",
   "name": "python3"
  },
  "language_info": {
   "codemirror_mode": {
    "name": "ipython",
    "version": 3
   },
   "file_extension": ".py",
   "mimetype": "text/x-python",
   "name": "python",
   "nbconvert_exporter": "python",
   "pygments_lexer": "ipython3",
   "version": "3.12.0"
  },
  "vscode": {
   "interpreter": {
    "hash": "b2e9f9008725dd23caa923c816518e3b0196341f10d73fc2172efb766a67f165"
   }
  }
 },
 "nbformat": 4,
 "nbformat_minor": 2
}
