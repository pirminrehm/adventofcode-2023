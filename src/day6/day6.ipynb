{
 "cells": [
  {
   "cell_type": "code",
   "execution_count": 136,
   "metadata": {
    "collapsed": true
   },
   "outputs": [],
   "source": [
    "import numpy as np\n",
    "import re\n",
    "import math\n",
    "from tqdm import tqdm"
   ]
  },
  {
   "cell_type": "code",
   "execution_count": 137,
   "metadata": {},
   "outputs": [],
   "source": [
    "f = open(\"./input\", \"r\")\n",
    "lines = f.read().splitlines()"
   ]
  },
  {
   "cell_type": "code",
   "execution_count": 138,
   "metadata": {},
   "outputs": [],
   "source": [
    "dis = list(map(int, re.findall(r\"\\d+\", lines[0])))\n",
    "dur = list(map(int, re.findall(r\"\\d+\", lines[1])))\n",
    "games = list(zip(dis, dur))"
   ]
  },
  {
   "cell_type": "code",
   "execution_count": 139,
   "metadata": {},
   "outputs": [],
   "source": [
    "def mitternacht(a, b, c):\n",
    "    a = float(a)\n",
    "    b = float(b)\n",
    "    c = float(c)\n",
    "    if b**2 < (4 * a * c):\n",
    "        raise ValueError\n",
    "\n",
    "    x1 = float(-b + (b**2 - (4 * a * c)) ** (0.5)) / (2 * a)\n",
    "    x2 = float(-b - (b**2 - (4 * a * c)) ** (0.5)) / (2 * a)\n",
    "    return x1, x2"
   ]
  },
  {
   "cell_type": "code",
   "execution_count": 140,
   "metadata": {},
   "outputs": [
    {
     "data": {
      "text/plain": [
       "140220"
      ]
     },
     "execution_count": 140,
     "metadata": {},
     "output_type": "execute_result"
    }
   ],
   "source": [
    "# example 7x -x^2 = 9 -> a= -1, b=duration, c= -distance\n",
    "part1 = 1\n",
    "for duration, distance in games:\n",
    "    solution = list(mitternacht(-1, duration, -distance))\n",
    "    solution.sort()\n",
    "    x1, x2  = solution\n",
    "    lower = x1+1 if x1.is_integer() else math.ceil(x1)\n",
    "    upper = x2-1 if x2.is_integer() else math.floor(x2)\n",
    "    part1 *= upper-lower +1\n",
    "    \n",
    "part1"
   ]
  },
  {
   "cell_type": "code",
   "execution_count": 141,
   "metadata": {},
   "outputs": [
    {
     "name": "stdout",
     "output_type": "stream",
     "text": [
      "39570185\n"
     ]
    }
   ],
   "source": [
    "duration = int(lines[0].split(\":\")[1].strip().replace(\" \", \"\"))\n",
    "distance = int(lines[1].split(\":\")[1].strip().replace(\" \", \"\"))\n",
    "\n",
    "solution = list(mitternacht(-1, duration, -distance))\n",
    "solution.sort()\n",
    "x1, x2  = solution\n",
    "lower = x1+1 if x1.is_integer() else math.ceil(x1)\n",
    "upper = x2-1 if x2.is_integer() else math.floor(x2)\n",
    "\n",
    "print(upper-lower +1)"
   ]
  }
 ],
 "metadata": {
  "kernelspec": {
   "display_name": "Python 3.9.15 ('py39')",
   "language": "python",
   "name": "python3"
  },
  "language_info": {
   "codemirror_mode": {
    "name": "ipython",
    "version": 3
   },
   "file_extension": ".py",
   "mimetype": "text/x-python",
   "name": "python",
   "nbconvert_exporter": "python",
   "pygments_lexer": "ipython3",
   "version": "3.12.0"
  },
  "vscode": {
   "interpreter": {
    "hash": "b2e9f9008725dd23caa923c816518e3b0196341f10d73fc2172efb766a67f165"
   }
  }
 },
 "nbformat": 4,
 "nbformat_minor": 2
}
