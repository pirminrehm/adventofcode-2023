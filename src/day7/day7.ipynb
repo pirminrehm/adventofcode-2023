{
 "cells": [
  {
   "cell_type": "code",
   "execution_count": 1,
   "metadata": {
    "collapsed": true
   },
   "outputs": [],
   "source": [
    "import numpy as np\n",
    "import re\n",
    "import math\n",
    "from tqdm import tqdm\n",
    "from collections import Counter\n"
   ]
  },
  {
   "cell_type": "code",
   "execution_count": 2,
   "metadata": {},
   "outputs": [],
   "source": [
    "f = open(\"./input\", \"r\")\n",
    "lines = f.read().splitlines()"
   ]
  },
  {
   "cell_type": "code",
   "execution_count": 3,
   "metadata": {},
   "outputs": [],
   "source": [
    "card_to_value = {\n",
    "    \"2\": 2,\n",
    "    \"3\": 3,\n",
    "    \"4\": 4,\n",
    "    \"5\": 5,\n",
    "    \"6\": 6,\n",
    "    \"7\": 7,\n",
    "    \"8\": 8,\n",
    "    \"9\": 9,\n",
    "    \"T\": 10,\n",
    "    \"J\": 11,\n",
    "    \"Q\": 12,\n",
    "    \"K\": 13,\n",
    "    \"A\": 14,\n",
    "}\n",
    "cards = [[list(x.split()[0]), int(x.split()[1])] for x in lines]\n",
    "cards_mapped = [\n",
    "    [tuple(map(lambda x: card_to_value[x], list(x.split()[0]))), int(x.split()[1])]\n",
    "    for x in lines\n",
    "]"
   ]
  },
  {
   "cell_type": "code",
   "execution_count": 4,
   "metadata": {},
   "outputs": [],
   "source": [
    "hands = {\n",
    "    \"five\": [],\n",
    "    \"four\": [],\n",
    "    \"full_house\": [],\n",
    "    \"three\": [],\n",
    "    \"two_pair\": [],\n",
    "    \"one_pair\": [],\n",
    "    \"high\": [],\n",
    "}"
   ]
  },
  {
   "cell_type": "code",
   "execution_count": 5,
   "metadata": {},
   "outputs": [],
   "source": [
    "def type_of_hand(hand):\n",
    "    t = len(set(hand))\n",
    "    if (t == 1): return \"five\"\n",
    "    if (t == 2): \n",
    "        if 4 in list(Counter(list(hand)).values()):\n",
    "            return \"four\"\n",
    "        return \"full_house\"\n",
    "    if (t == 4): return \"one_pair\"\n",
    "    if (t == 5): return \"high\"\n",
    "    # if 2 times 2 occurence = 2 pair else three\n",
    "    t5 = list(Counter(list(hand)).values()).count(2)\n",
    "    if (t5 == 2): return \"two_pair\"\n",
    "    return \"three\""
   ]
  },
  {
   "cell_type": "code",
   "execution_count": 6,
   "metadata": {},
   "outputs": [],
   "source": [
    "for card in cards_mapped:\n",
    "    type = type_of_hand(card[0])\n",
    "    hands[type].append(card)\n",
    "\n",
    "for key in hands:\n",
    "    hands[key].sort(reverse=True)"
   ]
  },
  {
   "cell_type": "code",
   "execution_count": 7,
   "metadata": {},
   "outputs": [
    {
     "name": "stdout",
     "output_type": "stream",
     "text": [
      "250370104\n"
     ]
    }
   ],
   "source": [
    "counter = 0\n",
    "winnings = 0\n",
    "for type in [\"high\", \"one_pair\", \"two_pair\", \"three\", \"full_house\", \"four\", \"five\"]:\n",
    "    while hands[type]:\n",
    "        counter += 1\n",
    "        hand = hands[type].pop()\n",
    "        winnings += hand[1] * counter\n",
    "\n",
    "print(winnings)"
   ]
  },
  {
   "cell_type": "code",
   "execution_count": 8,
   "metadata": {},
   "outputs": [],
   "source": [
    "#part2\n",
    "card_to_value = {\n",
    "    \"J\": 0,\n",
    "    \"2\": 2,\n",
    "    \"3\": 3,\n",
    "    \"4\": 4,\n",
    "    \"5\": 5,\n",
    "    \"6\": 6,\n",
    "    \"7\": 7,\n",
    "    \"8\": 8,\n",
    "    \"9\": 9,\n",
    "    \"T\": 10,\n",
    "    \"Q\": 12,\n",
    "    \"K\": 13,\n",
    "    \"A\": 14,\n",
    "}\n",
    "cards_2= [\n",
    "    [tuple(map(lambda x: card_to_value[x], list(x.split()[0]))), int(x.split()[1])]\n",
    "    for x in lines\n",
    "]"
   ]
  },
  {
   "cell_type": "code",
   "execution_count": 9,
   "metadata": {},
   "outputs": [],
   "source": [
    "def type_of_hand2(hand):\n",
    "    most_common = None\n",
    "    try:\n",
    "        most_common = list(filter(lambda x: x[0] != 0, Counter(list(hand)).most_common()))[0][0]\n",
    "    except:\n",
    "        most_common = 14\n",
    "    new_hand = tuple([x if x != 0 else most_common for x in hand])\n",
    "\n",
    "    t = len(set(new_hand))\n",
    "    if (t == 1): return \"five\"\n",
    "    if (t == 2): \n",
    "        if 4 in list(Counter(list(new_hand)).values()):\n",
    "            return \"four\"\n",
    "        return \"full_house\"\n",
    "    if (t == 4): return \"one_pair\"\n",
    "    if (t == 5): return \"high\"\n",
    "    # if 2 times 2 occurence = 2 pair else three\n",
    "    t5 = list(Counter(list(new_hand)).values()).count(2)\n",
    "    if (t5 == 2): return \"two_pair\"\n",
    "    return \"three\""
   ]
  },
  {
   "cell_type": "code",
   "execution_count": 10,
   "metadata": {},
   "outputs": [],
   "source": [
    "for card in cards_2:\n",
    "    type = type_of_hand2(card[0])\n",
    "    hands[type].append(card)\n",
    "\n",
    "for key in hands:\n",
    "    hands[key].sort(reverse=True)"
   ]
  },
  {
   "cell_type": "code",
   "execution_count": 11,
   "metadata": {},
   "outputs": [
    {
     "name": "stdout",
     "output_type": "stream",
     "text": [
      "251735672\n"
     ]
    }
   ],
   "source": [
    "counter = 0\n",
    "winnings = 0\n",
    "for type in [\"high\", \"one_pair\", \"two_pair\", \"three\", \"full_house\", \"four\", \"five\"]:\n",
    "    while hands[type]:\n",
    "        counter += 1\n",
    "        hand = hands[type].pop()\n",
    "        winnings += hand[1] * counter\n",
    "\n",
    "print(winnings)"
   ]
  }
 ],
 "metadata": {
  "kernelspec": {
   "display_name": "Python 3.9.15 ('py39')",
   "language": "python",
   "name": "python3"
  },
  "language_info": {
   "codemirror_mode": {
    "name": "ipython",
    "version": 3
   },
   "file_extension": ".py",
   "mimetype": "text/x-python",
   "name": "python",
   "nbconvert_exporter": "python",
   "pygments_lexer": "ipython3",
   "version": "3.12.0"
  },
  "vscode": {
   "interpreter": {
    "hash": "b2e9f9008725dd23caa923c816518e3b0196341f10d73fc2172efb766a67f165"
   }
  }
 },
 "nbformat": 4,
 "nbformat_minor": 2
}
