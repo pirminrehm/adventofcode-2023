{
 "cells": [
  {
   "cell_type": "code",
   "execution_count": 108,
   "metadata": {
    "collapsed": true
   },
   "outputs": [],
   "source": [
    "import numpy as np\n",
    "import re\n",
    "from tqdm import tqdm"
   ]
  },
  {
   "cell_type": "code",
   "execution_count": 109,
   "metadata": {},
   "outputs": [],
   "source": [
    "f = open(\"./input\", \"r\")\n",
    "lines = f.read().splitlines()"
   ]
  },
  {
   "cell_type": "code",
   "execution_count": 111,
   "metadata": {},
   "outputs": [],
   "source": [
    "seeds = list(map(int, lines[0].split(\": \")[1].split(\" \")))\n",
    "\n",
    "seed_map = list(range(7))\n",
    "current = -1\n",
    "for i, line in enumerate(lines):\n",
    "    if line == \"\":\n",
    "        current +=1\n",
    "        seed_map[current] = []\n",
    "        continue\n",
    "    if line[0].isdigit():\n",
    "        line_list = list(map(int, line.split(\" \")))\n",
    "        seed_map[current].append({\n",
    "            \"start\": line_list[1],\n",
    "            \"end\": line_list[1] + line_list[2], # non-inclusive end\n",
    "            \"length\": line_list[2],\n",
    "            \"destination\":  line_list[0]\n",
    "\n",
    "        })"
   ]
  },
  {
   "cell_type": "code",
   "execution_count": 112,
   "metadata": {},
   "outputs": [],
   "source": [
    "def get_location(initial_seed):\n",
    "        current = initial_seed\n",
    "        destination = current\n",
    "\n",
    "        for step in seed_map:\n",
    "\n",
    "            for range_map in step:\n",
    "                if range_map[\"start\"] <= current and current < range_map[\"end\"]:\n",
    "                    destination = current - range_map[\"start\"] + range_map[\"destination\"]\n",
    "                    break\n",
    "\n",
    "            current = destination\n",
    "        \n",
    "        return destination"
   ]
  },
  {
   "cell_type": "code",
   "execution_count": 113,
   "metadata": {},
   "outputs": [
    {
     "data": {
      "text/plain": [
       "579439039"
      ]
     },
     "execution_count": 113,
     "metadata": {},
     "output_type": "execute_result"
    }
   ],
   "source": [
    "#part1\n",
    "final_locations = []\n",
    "for seed in seeds:\n",
    "    final_locations.append(get_location(seed))\n",
    "min(final_locations)"
   ]
  },
  {
   "cell_type": "code",
   "execution_count": 116,
   "metadata": {},
   "outputs": [
    {
     "name": "stdout",
     "output_type": "stream",
     "text": [
      "7873084\n"
     ]
    }
   ],
   "source": [
    "#part2\n",
    "seeds_range = []\n",
    "for i in range(0, len(seeds), 2):\n",
    "    seeds_range.append((seeds[i], seeds[i] + seeds[i+1]))\n",
    "\n",
    "current_range = seeds_range.copy()\n",
    "for layer in seed_map:\n",
    "    new = []\n",
    "    while len(current_range) > 0:\n",
    "        range_start, range_end = current_range.pop()\n",
    "\n",
    "        for layer_range in layer:\n",
    "\n",
    "            dest = layer_range[\"destination\"]\n",
    "            start = layer_range[\"start\"]\n",
    "            end = layer_range[\"end\"]\n",
    "\n",
    "            overlap_start = max(range_start, start)\n",
    "            overlap_end = min(range_end, end)\n",
    "\n",
    "            has_overlap = overlap_start < overlap_end\n",
    "            if has_overlap:\n",
    "                # map range and append to new range\n",
    "                new.append((overlap_start - start + dest, overlap_end - start + dest))\n",
    "\n",
    "                # append rest of unmapped range to current range\n",
    "                if overlap_start > range_start:\n",
    "                    current_range.append((range_start, overlap_start))\n",
    "                if range_end > overlap_end:\n",
    "                    current_range.append((overlap_end, range_end))\n",
    "                break\n",
    "\n",
    "        else:\n",
    "            new.append((range_start, range_end))\n",
    "    current_range = new\n",
    "\n",
    "print(min(current_range)[0])"
   ]
  }
 ],
 "metadata": {
  "kernelspec": {
   "display_name": "Python 3.9.15 ('py39')",
   "language": "python",
   "name": "python3"
  },
  "language_info": {
   "codemirror_mode": {
    "name": "ipython",
    "version": 3
   },
   "file_extension": ".py",
   "mimetype": "text/x-python",
   "name": "python",
   "nbconvert_exporter": "python",
   "pygments_lexer": "ipython3",
   "version": "3.10.9"
  },
  "vscode": {
   "interpreter": {
    "hash": "b2e9f9008725dd23caa923c816518e3b0196341f10d73fc2172efb766a67f165"
   }
  }
 },
 "nbformat": 4,
 "nbformat_minor": 2
}
