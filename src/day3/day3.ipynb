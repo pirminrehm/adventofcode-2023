{
 "cells": [
  {
   "cell_type": "code",
   "execution_count": 121,
   "metadata": {
    "collapsed": true
   },
   "outputs": [],
   "source": [
    "import numpy as np\n",
    "import re"
   ]
  },
  {
   "cell_type": "code",
   "execution_count": 122,
   "metadata": {},
   "outputs": [],
   "source": [
    "f = open(\"./input\", \"r\")\n",
    "rows = f.read().splitlines()\n",
    "rows.insert(0, \".\" * len(rows[0]))\n",
    "rows.insert(len(rows), \".\" * len(rows[0]))"
   ]
  },
  {
   "cell_type": "code",
   "execution_count": 123,
   "metadata": {},
   "outputs": [
    {
     "data": {
      "text/plain": [
       "519444"
      ]
     },
     "execution_count": 123,
     "metadata": {},
     "output_type": "execute_result"
    }
   ],
   "source": [
    "digits = re.compile(\"[^0-9.]\")\n",
    "num_map = np.zeros((len(rows), len(rows[0])))\n",
    "part1 = 0\n",
    "for ri in range(len(rows)):\n",
    "    row = rows[ri]\n",
    "    ci = 0\n",
    "    while ci < len(row):\n",
    "        if row[ci].isnumeric():\n",
    "            num_s = row[ci]\n",
    "            cic = ci\n",
    "            while True:\n",
    "                if cic < len(row)-1 and row[cic + 1].isnumeric():\n",
    "                    cic += 1\n",
    "                    num_s += row[cic]\n",
    "                else:\n",
    "                    break\n",
    "\n",
    "            num = int(num_s)\n",
    "            for i in range(ci, cic+1):\n",
    "                num_map[ri][i] = num\n",
    "            lower = max(ci - 1, 0)\n",
    "            upper = min(cic + 2, len(row))\n",
    "\n",
    "            if (\n",
    "                digits.search(rows[ri][lower : upper])\n",
    "                or digits.search(rows[ri - 1][lower : upper])\n",
    "                or digits.search(rows[ri + 1][lower : upper])\n",
    "            ):\n",
    "                part1 += num\n",
    "            ci = cic+1\n",
    "        else:\n",
    "            ci += 1\n",
    "\n",
    "\n",
    "part1"
   ]
  },
  {
   "cell_type": "code",
   "execution_count": 124,
   "metadata": {},
   "outputs": [
    {
     "data": {
      "text/plain": [
       "74528807"
      ]
     },
     "execution_count": 124,
     "metadata": {},
     "output_type": "execute_result"
    }
   ],
   "source": [
    "part2 = 0\n",
    "for ri in range(len(rows)):\n",
    "    row = rows[ri]\n",
    "    ci = 0\n",
    "    while ci < len(row)-1:\n",
    "        ci += 1\n",
    "        if row[ci] != \"*\":\n",
    "            continue\n",
    "\n",
    "        lower = max(ci - 1, 0)\n",
    "        upper = min(ci + 2, len(row))\n",
    "        n1 = None\n",
    "        n2 = None\n",
    "        for i in range(ri-1, ri+2):\n",
    "            for c in range(lower, upper):\n",
    "                if num_map[i][c] == 0:\n",
    "                    continue\n",
    "                if n1 == None:\n",
    "                    n1 =  num_map[i][c]\n",
    "                if n2 == None and num_map[i][c] != n1:\n",
    "                    n2 =  num_map[i][c]\n",
    "                    break\n",
    "            else:\n",
    "                continue\n",
    "            break\n",
    "        if n1 != None and n2 != None:\n",
    "            part2 += n1 * n2\n",
    "\n",
    "\n",
    "\n",
    "int(part2)"
   ]
  }
 ],
 "metadata": {
  "kernelspec": {
   "display_name": "Python 3.9.15 ('py39')",
   "language": "python",
   "name": "python3"
  },
  "language_info": {
   "codemirror_mode": {
    "name": "ipython",
    "version": 3
   },
   "file_extension": ".py",
   "mimetype": "text/x-python",
   "name": "python",
   "nbconvert_exporter": "python",
   "pygments_lexer": "ipython3",
   "version": "3.12.0"
  },
  "vscode": {
   "interpreter": {
    "hash": "b2e9f9008725dd23caa923c816518e3b0196341f10d73fc2172efb766a67f165"
   }
  }
 },
 "nbformat": 4,
 "nbformat_minor": 2
}
