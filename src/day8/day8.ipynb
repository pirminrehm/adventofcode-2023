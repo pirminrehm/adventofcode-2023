{
 "cells": [
  {
   "cell_type": "code",
   "execution_count": 332,
   "metadata": {
    "collapsed": true
   },
   "outputs": [],
   "source": [
    "import numpy as np\n",
    "import re\n",
    "import math\n",
    "from tqdm import tqdm\n",
    "from collections import Counter"
   ]
  },
  {
   "cell_type": "code",
   "execution_count": 333,
   "metadata": {},
   "outputs": [],
   "source": [
    "f = open(\"./input\", \"r\")\n",
    "lines = f.read().splitlines()"
   ]
  },
  {
   "cell_type": "code",
   "execution_count": 335,
   "metadata": {},
   "outputs": [],
   "source": [
    "instructions = [0 if x == \"L\" else 1 for x in lines[0]]\n",
    "target = -1\n",
    "start = -1\n",
    "\n",
    "a_starter = []\n",
    "z_targets = []\n",
    "\n",
    "nodes_map = {}\n",
    "for i, node in enumerate(lines[2::]):\n",
    "    id = node.split(\" =\")[0]\n",
    "    nodes_map[id] = i\n",
    "    if id == \"ZZZ\":\n",
    "        target = i\n",
    "    if id == \"AAA\":\n",
    "        start = i\n",
    "    if id.endswith(\"A\"):\n",
    "        a_starter.append(i)\n",
    "    if id.endswith(\"Z\"):\n",
    "        z_targets.append(i)\n",
    "\n",
    "path_list = []\n",
    "\n",
    "for i, node in enumerate(lines[2::]):\n",
    "    a, b = node.split(\" = (\")[1][:-1].split(\", \")\n",
    "    path_list.append((nodes_map[a], nodes_map[b]))"
   ]
  },
  {
   "cell_type": "code",
   "execution_count": 336,
   "metadata": {},
   "outputs": [
    {
     "name": "stdout",
     "output_type": "stream",
     "text": [
      "19667\n"
     ]
    }
   ],
   "source": [
    "current = start\n",
    "counter = 0\n",
    "\n",
    "while not current == target:\n",
    "    next = path_list[current][instructions[counter % len(instructions)]]\n",
    "    current = next\n",
    "    counter += 1\n",
    "\n",
    "print(counter)"
   ]
  },
  {
   "cell_type": "code",
   "execution_count": 337,
   "metadata": {},
   "outputs": [],
   "source": [
    "def find_next_target(start, targets, counter=0):\n",
    "    current = start\n",
    "    z_found = False\n",
    "\n",
    "    while not z_found:\n",
    "        current = path_list[current][instructions[counter % len(instructions)]]\n",
    "        counter += 1\n",
    "        z_found = current in targets\n",
    "\n",
    "    return counter, current\n"
   ]
  },
  {
   "cell_type": "code",
   "execution_count": 338,
   "metadata": {},
   "outputs": [],
   "source": [
    "counts = []\n",
    "for start in a_starter:\n",
    "    c , found = find_next_target(start, z_targets)\n",
    "    counts.append(c)"
   ]
  },
  {
   "cell_type": "code",
   "execution_count": 339,
   "metadata": {},
   "outputs": [
    {
     "data": {
      "text/plain": [
       "19185263738117"
      ]
     },
     "execution_count": 339,
     "metadata": {},
     "output_type": "execute_result"
    }
   ],
   "source": [
    "math.lcm(*counts)"
   ]
  }
 ],
 "metadata": {
  "kernelspec": {
   "display_name": "Python 3.9.15 ('py39')",
   "language": "python",
   "name": "python3"
  },
  "language_info": {
   "codemirror_mode": {
    "name": "ipython",
    "version": 3
   },
   "file_extension": ".py",
   "mimetype": "text/x-python",
   "name": "python",
   "nbconvert_exporter": "python",
   "pygments_lexer": "ipython3",
   "version": "3.12.0"
  },
  "vscode": {
   "interpreter": {
    "hash": "b2e9f9008725dd23caa923c816518e3b0196341f10d73fc2172efb766a67f165"
   }
  }
 },
 "nbformat": 4,
 "nbformat_minor": 2
}
