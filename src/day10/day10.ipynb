{
 "cells": [
  {
   "cell_type": "code",
   "execution_count": 67,
   "metadata": {
    "collapsed": true
   },
   "outputs": [],
   "source": [
    "import numpy as np\n",
    "import re\n",
    "import math\n",
    "from tqdm import tqdm\n",
    "from collections import Counter\n",
    "np.set_printoptions(edgeitems=30, linewidth=100000, \n",
    "    formatter=dict(float=lambda x: \"%.3g\" % x))"
   ]
  },
  {
   "cell_type": "code",
   "execution_count": 68,
   "metadata": {},
   "outputs": [],
   "source": [
    "f = open(\"./input\", \"r\")\n",
    "lines = f.read().splitlines()"
   ]
  },
  {
   "cell_type": "code",
   "execution_count": 69,
   "metadata": {},
   "outputs": [],
   "source": [
    "grid = np.array([list(x) for x in lines])\n",
    "marker_grid = grid.copy()\n",
    "\n",
    "pipe_map = {\n",
    "    \"F\": {(-1, 0): (0, 1), (0, -1): (1, 0)},\n",
    "    \"-\": {(0, 1): (0, 1), (0, -1): (0, -1)},\n",
    "    \"7\": {(0, 1): (1, 0), (-1, 0): (0, -1)},\n",
    "    \"|\": {(1, 0): (1, 0), (-1, 0): (-1, 0)},\n",
    "    \"J\": {(1, 0): (0, -1), (0, 1): (-1, 0)},\n",
    "    \"L\": {(1, 0): (0, 1), (0, -1): (-1, 0)},\n",
    "}\n",
    "\n",
    "def addp(p1, p2):\n",
    "    return tuple(map(sum, zip(p1, p2)))"
   ]
  },
  {
   "cell_type": "code",
   "execution_count": 70,
   "metadata": {},
   "outputs": [
    {
     "name": "stdout",
     "output_type": "stream",
     "text": [
      "part1 6831\n"
     ]
    }
   ],
   "source": [
    "start = list(zip(*np.where(grid == \"S\")))[0]\n",
    "start_type = None\n",
    "\n",
    "for pipe in pipe_map.keys():\n",
    "    found = 0\n",
    "    for origin, dest in pipe_map[pipe].items():\n",
    "        next_p = addp(start, pipe_map[pipe][origin])\n",
    "        next = grid[next_p]\n",
    "\n",
    "        # print(pipe, origin, dest , next)\n",
    "\n",
    "        if dest in pipe_map[next]:\n",
    "            found+= 1\n",
    "            continue\n",
    "        break\n",
    "    if found == 2:\n",
    "        start_type = pipe\n",
    "\n",
    "pipe_map[\"S\"] = pipe_map[start_type]\n",
    "direction = list(pipe_map[\"S\"].keys())[0]\n",
    "\n",
    "current = start\n",
    "next = None\n",
    "counter = 0\n",
    "marker_grid[start] = \"x\"\n",
    "\n",
    "while start != next:\n",
    "    direction = pipe_map[grid[current]][direction]  \n",
    "    counter += 1\n",
    "    next = addp(current, direction)\n",
    "    current = next\n",
    "    marker_grid[current]  =\"x\"\n",
    "\n",
    "marker_grid[marker_grid != \"x\"] = \".\"\n",
    "\n",
    "print(\"part1\", int(counter/2))"
   ]
  },
  {
   "cell_type": "code",
   "execution_count": 71,
   "metadata": {},
   "outputs": [
    {
     "name": "stdout",
     "output_type": "stream",
     "text": [
      "305\n"
     ]
    }
   ],
   "source": [
    "# find first \"-\" with \".\" above -> inside of circle is safe below\n",
    "start2 = None\n",
    "\n",
    "for li, line in enumerate(marker_grid):\n",
    "    for pi, marked in enumerate(line):\n",
    "        if marked != \"x\":\n",
    "            continue\n",
    "        if grid[(li, pi)] == \"-\":\n",
    "            start2 = (li, pi)\n",
    "            break\n",
    "    else:\n",
    "        continue\n",
    "    break\n",
    "\n",
    "inside_map = {\n",
    "    (0, 1): (1, 0),\n",
    "    (1, 0): (0, -1),\n",
    "    (0, -1): (-1, 0),\n",
    "    (-1, 0): (0, 1),\n",
    "}\n",
    "\n",
    "\n",
    "edit_grid = marker_grid.copy()\n",
    "\n",
    "def mark_area(point):\n",
    "    if edit_grid[point] != \".\":\n",
    "        return \n",
    "    edit_grid[point] = \"+\"\n",
    "    for ext in inside_map.keys():\n",
    "        mark_area(addp(point, ext))\n",
    "\n",
    "\n",
    "direction = (0, 1)\n",
    "current = start2\n",
    "next = None\n",
    "\n",
    "while start2 != next:\n",
    "    mark_area(addp(current, inside_map[direction]))\n",
    "\n",
    "    next_direction = pipe_map[grid[current]][direction]\n",
    "    next = addp(current, next_direction)\n",
    "\n",
    "    mark_area(addp(current, inside_map[next_direction]))\n",
    "\n",
    "    direction = next_direction\n",
    "    current = next\n",
    "\n",
    "\n",
    "\n",
    "print(len(edit_grid[edit_grid == \"+\"]))"
   ]
  }
 ],
 "metadata": {
  "kernelspec": {
   "display_name": "Python 3.9.15 ('py39')",
   "language": "python",
   "name": "python3"
  },
  "language_info": {
   "codemirror_mode": {
    "name": "ipython",
    "version": 3
   },
   "file_extension": ".py",
   "mimetype": "text/x-python",
   "name": "python",
   "nbconvert_exporter": "python",
   "pygments_lexer": "ipython3",
   "version": "3.12.0"
  },
  "vscode": {
   "interpreter": {
    "hash": "b2e9f9008725dd23caa923c816518e3b0196341f10d73fc2172efb766a67f165"
   }
  }
 },
 "nbformat": 4,
 "nbformat_minor": 2
}
