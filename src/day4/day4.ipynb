{
 "cells": [
  {
   "cell_type": "code",
   "execution_count": 125,
   "metadata": {
    "collapsed": true
   },
   "outputs": [],
   "source": [
    "import numpy as np\n",
    "import re"
   ]
  },
  {
   "cell_type": "code",
   "execution_count": 126,
   "metadata": {},
   "outputs": [],
   "source": [
    "f = open(\"./input\", \"r\")\n",
    "lines = f.read().splitlines()"
   ]
  },
  {
   "cell_type": "code",
   "execution_count": 127,
   "metadata": {},
   "outputs": [],
   "source": [
    "games = [[x[0].split(\" \"), x[1].split(\" \")] for x in [x.split(\": \")[1].replace(\"  \", \" \").strip().split(\" | \") for x in lines]]"
   ]
  },
  {
   "cell_type": "code",
   "execution_count": 128,
   "metadata": {},
   "outputs": [
    {
     "data": {
      "text/plain": [
       "20407"
      ]
     },
     "execution_count": 128,
     "metadata": {},
     "output_type": "execute_result"
    }
   ],
   "source": [
    "part1 = 0\n",
    "game_wins = np.zeros(len(games), int)\n",
    "for ig, game in enumerate(games):\n",
    "    wins = 0\n",
    "    for num in game[0]:\n",
    "        if num in game[1]:\n",
    "            wins += 1\n",
    "    game_wins[ig] = wins\n",
    "    if wins == 0: continue\n",
    "    part1 += pow(2, wins-1)\n",
    "\n",
    "part1"
   ]
  },
  {
   "cell_type": "code",
   "execution_count": 129,
   "metadata": {},
   "outputs": [
    {
     "data": {
      "text/plain": [
       "23806951"
      ]
     },
     "execution_count": 129,
     "metadata": {},
     "output_type": "execute_result"
    }
   ],
   "source": [
    "all_games = list(range(len(games)))\n",
    "\n",
    "for ig in all_games:\n",
    "    if game_wins[ig] == 0: continue\n",
    "    for i in range(ig+1, ig + 1 + game_wins[ig]):\n",
    "        all_games.append(i)\n",
    "\n",
    "len(all_games)"
   ]
  }
 ],
 "metadata": {
  "kernelspec": {
   "display_name": "Python 3.9.15 ('py39')",
   "language": "python",
   "name": "python3"
  },
  "language_info": {
   "codemirror_mode": {
    "name": "ipython",
    "version": 3
   },
   "file_extension": ".py",
   "mimetype": "text/x-python",
   "name": "python",
   "nbconvert_exporter": "python",
   "pygments_lexer": "ipython3",
   "version": "3.12.0"
  },
  "vscode": {
   "interpreter": {
    "hash": "b2e9f9008725dd23caa923c816518e3b0196341f10d73fc2172efb766a67f165"
   }
  }
 },
 "nbformat": 4,
 "nbformat_minor": 2
}
